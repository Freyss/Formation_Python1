{
 "cells": [
  {
   "cell_type": "markdown",
   "metadata": {},
   "source": [
    "# <div class=\"alert alert-info\" role=\"alert\"> <center> Python 1 : Application La loi de Beer Lambert"
   ]
  },
  {
   "cell_type": "markdown",
   "metadata": {},
   "source": [
    "<div class=\"alert alert-warning\">\n",
    "    <b> Travail à faire : </b>\n",
    "    \n",
    "Un spectrophomètre, réglé sur la longueur d'onde $\\lambda $=640 nm, permet de mesurer l'absorbance de solutions de différentes concentrations C en bleu patenté.\n",
    "\n",
    "| Absorbance    | 0,030 | 0,064  | 0,094 | 0,130 | 0,162 |\n",
    "| --------------|:----:| -----:|-----:|-----:|-----:|\n",
    "| C (mol/L)     | 2,0*10<sup>-6</sup> |  4,0*10<sup>-6</sup> |6,0*10<sup>-6</sup> |8,0*10<sup>-6</sup> |10,0*10<sup>-6</sup> | \n",
    "\n",
    "Dans les mêmes conditions, une solution S pour bain de bouche, contenant le colorant bleu patenté comme seule espèce colorée, a une absorbance As = 0,126.  \n",
    " Réaliser le code permettant de :  \n",
    " \n",
    " 1) Tracer la courbe d'étalonnage.  \n",
    " 2) Déterminer la concentration en quantité de matière Cs de bleu patenté de la solution S.\n",
    " D'après Hachette 1ère Spé 2020.\n",
    "</div>\n"
   ]
  },
  {
   "cell_type": "markdown",
   "metadata": {},
   "source": [
    "# Correction question 1 version 1 : Les points sont initialement présents dans les listes"
   ]
  },
  {
   "cell_type": "code",
   "execution_count": null,
   "metadata": {},
   "outputs": [],
   "source": [
    "%matplotlib inline\n",
    "from matplotlib import pyplot as plt\n",
    "from scipy.stats import linregress\n",
    "import numpy as np\n",
    "\n",
    "# Les deux séries de valeurs Rq : J'ai choisi de mettre le point (0,0)\n",
    "x=[0,2e-6,4e-6,6e-6,8e-6,10e-6]          \n",
    "y=[0,0.030,0.064,0.094,0.130,0.162]  \n",
    "\n",
    "# détermination des coefficients      \n",
    "a,b,ro,_,_=linregress(x,y)  # Régression linéaire \n",
    "\n",
    "#Affichage des résultats\n",
    "print('Coefficient directeur : a =',a)\n",
    "print('Ordonnée à l\\'origine : b =',b)\n",
    "print('Coefficient de corrélation : r = ',ro)\n",
    "\n",
    "# Abscisses et ordonnées du modèle\n",
    "x_modele=np.linspace(0,max(x),101)     #permet de créer une liste de 101 valeurs d'abscisses\n",
    "y_modele=[a*i+b for i in x_modele]     #calcule l'ordonnée en appliquant le modèle\n",
    "\n",
    "# tracé des graphiques\n",
    "plt.plot(x,y,'r+')              # les couples de valeurs sont représentés par des croix rouges\n",
    "plt.plot(x_modele,y_modele)     # par défaut les points sont liés par un segment de droite bleu\n",
    "\n",
    "# Informations sur le graphique\n",
    "plt.xlabel('C (mol/L)')        # légende de l'axe des absisses\n",
    "plt.ylabel('A')                # légende de l'axe des ordonnées\n",
    "plt.legend(('points expérimentaux','A=f(C)'))   # légende des courbes sur le graphique\n",
    "plt.grid()                     # affichage de la grille\n",
    "plt.rcParams['figure.figsize'] = [10,10]        # permet de choisir la taille du graphique\n",
    "# Montrer le graphique\n",
    "plt.show()"
   ]
  },
  {
   "cell_type": "markdown",
   "metadata": {},
   "source": [
    "# Correction question 1 version 2: Les points sont rentrés \"au clavier\""
   ]
  },
  {
   "cell_type": "code",
   "execution_count": null,
   "metadata": {},
   "outputs": [],
   "source": [
    "%matplotlib inline\n",
    "from matplotlib import pyplot as plt\n",
    "from scipy.stats import linregress\n",
    "import numpy as np\n",
    "\n",
    "y=[]\n",
    "x=[]\n",
    "N = int(input('Entrer le nombre total de mesures éffectuées  '))\n",
    "\n",
    "for i in range(N):\n",
    "    y_i = float(input('Entrer la valeur de l absorbance' ))\n",
    "    x_i = float(input('Entrer la valeur de C en mol/L '))\n",
    "    y.append(y_i)\n",
    "    x.append(x_i)\n",
    "\n",
    "# détermination des coefficients      \n",
    "a,b,ro,_,_=linregress(x,y)  # Régression linéaire \n",
    "\n",
    "#Affichage des résultats\n",
    "print('Coefficient directeur : a =',a)\n",
    "print('Ordonnée à l\\'origine : b =',b)\n",
    "print('Coefficient de corrélation : r = ',ro)\n",
    "\n",
    "# Abscisses et ordonnées du modèle\n",
    "x_modele=np.linspace(0,max(x),101)     #permet de créer une liste de 101 valeurs d'abscisses\n",
    "y_modele=[a*i+b for i in x_modele]          #calcul l'ordonnée en appliquant le modèle\n",
    "\n",
    "# tracé des graphiques\n",
    "plt.plot(x,y,'r+')              # les couples de valeurs sont représentées par des croix rouges\n",
    "plt.plot(x_modele,y_modele)     # par défaut les points sont liés par un segment de droite bleu\n",
    "\n",
    "# Informations sur le graphique\n",
    "plt.xlabel('C (mol/L)')        # légende de l'axe des absisses\n",
    "plt.ylabel('A')        # légende de l'axe des ordonnées\n",
    "plt.legend(('points expérimentaux','A=f(C)'))   # légende des courbes sur le graphique\n",
    "plt.grid() # affichage de la grille\n",
    "plt.rcParams['figure.figsize'] = [10,10] # permet de choisir la taille du graphique\n",
    "# Montrer le graphique\n",
    "plt.show()"
   ]
  },
  {
   "cell_type": "markdown",
   "metadata": {},
   "source": [
    "# Correction question 2 "
   ]
  },
  {
   "cell_type": "code",
   "execution_count": null,
   "metadata": {},
   "outputs": [],
   "source": [
    "Ym = np.float(input('Entrer la valeur de l abosrbande As de la solution inconnue :'))\n",
    "Xm = (Ym/a)\n",
    "\n",
    "plt.plot(x_modele,y_modele) \n",
    "plt.plot(Xm,Ym,'go') # Placement du point sur la droite\n",
    "plt.plot([0,Xm],[Ym,Ym],'g--') # Tracé de la droite horizontale\n",
    "plt.plot([Xm,Xm],[0,Ym],'g--') # Tracé de la droite verticale\n",
    "\n",
    "plt.title(\"A = f(C)\")\n",
    "plt.xlabel('C (mol/L))')\n",
    "plt.ylabel('A')\n",
    "plt.grid()\n",
    "\n",
    "plt.show()\n",
    "\n",
    "print('La concentration en quantité de matière de la solution S vaut : Cs={0:.1E}'.format(Xm),'mol/L') \n",
    "# Ecriture du résultat en notation scientifique avec une décimale"
   ]
  },
  {
   "cell_type": "code",
   "execution_count": null,
   "metadata": {},
   "outputs": [],
   "source": []
  }
 ],
 "metadata": {
  "kernelspec": {
   "display_name": "Python 3",
   "language": "python",
   "name": "python3"
  },
  "language_info": {
   "codemirror_mode": {
    "name": "ipython",
    "version": 3
   },
   "file_extension": ".py",
   "mimetype": "text/x-python",
   "name": "python",
   "nbconvert_exporter": "python",
   "pygments_lexer": "ipython3",
   "version": "3.7.1"
  }
 },
 "nbformat": 4,
 "nbformat_minor": 2
}
