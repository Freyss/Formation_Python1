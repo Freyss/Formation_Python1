{
 "cells": [
  {
   "cell_type": "markdown",
   "metadata": {},
   "source": [
    "# <div class=\"alert alert-info\" role=\"alert\"> <center> Python 1 : Quelques types de variables que l'on peut rencontrer dans un programme"
   ]
  },
  {
   "cell_type": "markdown",
   "metadata": {},
   "source": [
    "## 1) Les nombres  \n",
    "On rencontre deux types de variables permettant de stocker des nombres\n",
    "- le type **Int (integer)** pour les entiers ;\n",
    "- le type **float (floating)** pour les décimaux.  \n",
    "**Exemples :**\n",
    "\n"
   ]
  },
  {
   "cell_type": "code",
   "execution_count": null,
   "metadata": {},
   "outputs": [],
   "source": [
    "m=10\n",
    "print(type (m))"
   ]
  },
  {
   "cell_type": "code",
   "execution_count": null,
   "metadata": {},
   "outputs": [],
   "source": [
    "g=9.81\n",
    "print(type(g))"
   ]
  },
  {
   "cell_type": "code",
   "execution_count": null,
   "metadata": {},
   "outputs": [],
   "source": [
    "m=10\n",
    "g=9.81\n",
    "P=m*g\n",
    "print(P)"
   ]
  },
  {
   "cell_type": "markdown",
   "metadata": {},
   "source": [
    "On peut arrondir le résultat grâce à la fonction **round**, round(x,n) arrondi le nombre x à n décimales sans garder tous les 0 décimaux"
   ]
  },
  {
   "cell_type": "code",
   "execution_count": null,
   "metadata": {},
   "outputs": [],
   "source": [
    "print(round(P,2))"
   ]
  },
  {
   "cell_type": "markdown",
   "metadata": {},
   "source": [
    "\n",
    "## 2) Les chaînes de caractères\n",
    "Une chaîne de caractère est du type **str (string)**. C'est une suite de caractères (texte) délimitée par des guillemets.  \n",
    "**Exemple :**"
   ]
  },
  {
   "cell_type": "code",
   "execution_count": null,
   "metadata": {},
   "outputs": [],
   "source": [
    "a=\"Je suis une chaîne de caractères\"\n",
    "print(a)\n",
    "print(type(a))"
   ]
  },
  {
   "cell_type": "markdown",
   "metadata": {},
   "source": [
    "## 3) Les variables  \n",
    "On peut afficher un texte (chaine de caractère) et un nombre en même temps  \n",
    "**Exemple :**"
   ]
  },
  {
   "cell_type": "code",
   "execution_count": null,
   "metadata": {},
   "outputs": [],
   "source": [
    "print(\"le poids vaut : P=\",round(P,2),\"N\")"
   ]
  },
  {
   "attachments": {
    "image.png": {
     "image/png": "[encoded data removed]"
    }
   },
   "cell_type": "markdown",
   "metadata": {},
   "source": [
    "**Remarque : ** il n’est pas conseillé de mettre une lettre grecque comme nom de variable (exemple lambda est une instruction python )mais elle peut être affichée :\n",
    "![image.png](attachment:image.png)  \n",
    "**Exemple :**"
   ]
  },
  {
   "cell_type": "code",
   "execution_count": null,
   "metadata": {},
   "outputs": [],
   "source": [
    "print(\"la longueur d'onde\",chr(955),\"=\",780,\"nm\")"
   ]
  },
  {
   "cell_type": "markdown",
   "metadata": {},
   "source": [
    "## 4) Les listes  \n",
    "En Physique, quand nous faisons de l’acquisition de données, nous avons de nombreuses valeurs. Il n’est pas envisageable d’utiliser les variables x<sub>1</sub>, x<sub>2</sub>, x<sub>3</sub> etc…..car on pourrait avoir rapidement des centaines de variables à saisir et à gérer.\n",
    "Python propose un autre type de variable : **les listes**.  \n",
    "Par exmple si on veut rentrer les grandeurs du tableau suivant :\n",
    "\n",
    "| Absorbance    | 0,20 | 0,60  | 0,68 | 0,83 | 1,10 |\n",
    "| --------------|:----:| -----:|-----:|-----:|-----:|\n",
    "| C (mmol/L)     | 1,2  |  3,6  |4,1    |5,0|6,5|\n",
    "\n",
    "Il faut créer 2 listes : A et C et les compléter :  \n",
    "### a) Première méthode : Directement en recopiant les valeurs  \n",
    "**ATTENTION !** utiliser un point (clavier numérique) pour les valeurs décimales et une virgule (clavier texte) pour séparer les valeurs dans la liste. "
   ]
  },
  {
   "cell_type": "code",
   "execution_count": null,
   "metadata": {},
   "outputs": [],
   "source": [
    "A=[0.20,0.60,0.68,0.83,1.10]\n",
    "C=[1.2,3.6,4.1,5.0,6.5]\n",
    "print(A,C)"
   ]
  },
  {
   "cell_type": "markdown",
   "metadata": {},
   "source": [
    "### b) Deuxième méthode : Compléter la liste en rentrant les valeurs au clavier.  \n",
    "Pour ajouter un élément, le plus efficace est d'utiliser la fonction `append()` qui permet d'ajouter la valeur à la fin de la liste.   \n",
    "Dans cet exemple, il y a une **Boucle For**  \n",
    "**For i in range (N)**; i prend les valeurs entières de 0 à N-1  \n",
    "**Float** permet de préciser que c'est une grandeur décimale qui est rentrée dans la liste.\n"
   ]
  },
  {
   "cell_type": "code",
   "execution_count": null,
   "metadata": {},
   "outputs": [],
   "source": [
    "A=[]\n",
    "C=[]\n",
    "N = int(input(\"Entrer le nombre total de mesures effectuées\"))\n",
    "\n",
    "for i in range(N):\n",
    "    A_i = float(input(\"Entrer la valeur de l'absorbance\"))\n",
    "    C_i = float(input(\"Entrer la valeur de C en mol/L \"))\n",
    "    A.append(A_i)\n",
    "    C.append(C_i)\n",
    "print(A,C)"
   ]
  },
  {
   "cell_type": "code",
   "execution_count": null,
   "metadata": {},
   "outputs": [],
   "source": []
  }
 ],
 "metadata": {
  "kernelspec": {
   "display_name": "Python 3",
   "language": "python",
   "name": "python3"
  },
  "language_info": {
   "codemirror_mode": {
    "name": "ipython",
    "version": 3
   },
   "file_extension": ".py",
   "mimetype": "text/x-python",
   "name": "python",
   "nbconvert_exporter": "python",
   "pygments_lexer": "ipython3",
   "version": "3.7.1"
  }
 },
 "nbformat": 4,
 "nbformat_minor": 2
}
