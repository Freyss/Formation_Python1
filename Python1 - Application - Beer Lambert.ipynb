{
 "cells": [
  {
   "cell_type": "markdown",
   "metadata": {},
   "source": [
    "# <div class=\"alert alert-info\" role=\"alert\"> <center> Python 1 application  : La loi de Beer Lambert"
   ]
  },
  {
   "cell_type": "markdown",
   "metadata": {},
   "source": [
    "<div class=\"alert alert-warning\">\n",
    "<b>Travail à faire : </b> \n",
    "    \n",
    "Un spectrophomètre, réglé sur la longueur d'onde $\\lambda $=640 nm, permet de mesurer l'absorbance de solutions de différentes concentrations C en bleu patenté.\n",
    "\n",
    "| Absorbance    | 0,030 | 0,064  | 0,094 | 0,130 | 0,162 |\n",
    "| --------------|:----:| -----:|-----:|-----:|-----:|\n",
    "| C (mol/L)     | 2,0*10<sup>-6</sup> |  4,0*10<sup>-6</sup> |6,0*10<sup>-6</sup> |8,0*10<sup>-6</sup> |10,0*10<sup>-6</sup> | \n",
    "\n",
    "Dans les mêmes conditions, une solution S pour bain de bouche, contenant le colorant bleu patenté comme seule espèce colorée, a une absorbance As = 0,126.  \n",
    " Réaliser le code permettant de :  \n",
    " \n",
    " 1) Tracer la courbe d'étalonnage.  \n",
    " 2) Déterminer la concentration en quantité de matière Cs de bleu patenté de la solution S.\n",
    " D'après Hachette 1ère Spé 2020.\n",
    "</div>\n"
   ]
  },
  {
   "cell_type": "code",
   "execution_count": null,
   "metadata": {},
   "outputs": [],
   "source": []
  }
 ],
 "metadata": {
  "kernelspec": {
   "display_name": "Python 3",
   "language": "python",
   "name": "python3"
  },
  "language_info": {
   "codemirror_mode": {
    "name": "ipython",
    "version": 3
   },
   "file_extension": ".py",
   "mimetype": "text/x-python",
   "name": "python",
   "nbconvert_exporter": "python",
   "pygments_lexer": "ipython3",
   "version": "3.7.1"
  }
 },
 "nbformat": 4,
 "nbformat_minor": 2
}
