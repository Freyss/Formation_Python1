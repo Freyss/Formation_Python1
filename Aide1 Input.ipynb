{
 "cells": [
  {
   "cell_type": "markdown",
   "metadata": {
    "id": "eMPI7Ojl2qh6"
   },
   "source": [
    "# <div class=\"alert alert-info\" role=\"alert\"> Aide 1 : demander des valeurs : input"
   ]
  },
  {
   "cell_type": "markdown",
   "metadata": {
    "id": "yUleF8Hx2qh8"
   },
   "source": [
    "Exécuter la cellule"
   ]
  },
  {
   "cell_type": "code",
   "execution_count": null,
   "metadata": {
    "colab": {
     "base_uri": "https://localhost:8080/"
    },
    "id": "uMS52PyL2qh-",
    "outputId": "1363f801-3472-46ec-f2c4-acd2496a908e"
   },
   "outputs": [],
   "source": [
    "print(\"donner une valeur \")\n",
    "a =(input('la valeur est  :'))\n",
    "print(\"donner une autre  valeur \")\n",
    "b =(input('la valeur est  :'))\n",
    "c= a+b\n",
    "print(c)\n",
    "type(c)\n"
   ]
  },
  {
   "cell_type": "markdown",
   "metadata": {
    "id": "imNzs7Eh2qiB"
   },
   "source": [
    "Les valeurs rentrées avec input sont reconnues comme des chaines de caractères et non des nombres. L'addition a bien été faite mais le programme a juste ajouté les caractères. Il faut indiquer quel type de valeur on veut rentrer.\n",
    "* str : chaines de caractère ( par défaut)\n",
    "* float : décimaux\n",
    "* int : entier\n",
    "* list : une liste\n",
    "* bool : boléen  \n",
    "la liste est longue\n"
   ]
  },
  {
   "cell_type": "markdown",
   "metadata": {
    "id": "4A61XwGS2qiC"
   },
   "source": [
    "Exécuter la cellule ci dessous.  \n",
    "Refaire une éxécution et essayer de  rentrer des lettres"
   ]
  },
  {
   "cell_type": "code",
   "execution_count": null,
   "metadata": {
    "colab": {
     "base_uri": "https://localhost:8080/"
    },
    "id": "IP_lSdYe2qiE",
    "outputId": "4131e33a-d23d-4375-e403-da476ef29827"
   },
   "outputs": [],
   "source": [
    "print(\"donner une valeur \")\n",
    "a = float(input('la valeur est  :'))\n",
    "print(\"donner une autre  valeur \")\n",
    "b =float(input('la valeur est  :'))\n",
    "c= a+b\n",
    "print(c)\n",
    "type(c)\n"
   ]
  },
  {
   "cell_type": "markdown",
   "metadata": {
    "id": "eyon_BOl2qiG"
   },
   "source": [
    "Recopier le code et le coller ci dessous. Le modifier pour qu'il rentre des entiers."
   ]
  },
  {
   "cell_type": "code",
   "execution_count": null,
   "metadata": {
    "id": "A5-_EQi82qiH"
   },
   "outputs": [],
   "source": []
  }
 ],
 "metadata": {
  "colab": {
   "name": "input.ipynb",
   "provenance": []
  },
  "kernelspec": {
   "display_name": "Python 3",
   "language": "python",
   "name": "python3"
  },
  "language_info": {
   "codemirror_mode": {
    "name": "ipython",
    "version": 3
   },
   "file_extension": ".py",
   "mimetype": "text/x-python",
   "name": "python",
   "nbconvert_exporter": "python",
   "pygments_lexer": "ipython3",
   "version": "3.7.1"
  }
 },
 "nbformat": 4,
 "nbformat_minor": 1
}
